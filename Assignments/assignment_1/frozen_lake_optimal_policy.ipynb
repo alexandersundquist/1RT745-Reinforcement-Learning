{
 "cells": [
  {
   "cell_type": "markdown",
   "id": "3e9ff7c4",
   "metadata": {},
   "source": [
    "# Assignment 1"
   ]
  },
  {
   "cell_type": "markdown",
   "id": "32cea9d7",
   "metadata": {},
   "source": [
    "## Exercise 4"
   ]
  },
  {
   "cell_type": "markdown",
   "id": "ce4bb2f9",
   "metadata": {},
   "source": [
    "### Instructions\n",
    "\n",
    "Consider the FrozenLake8x8-v1 environment. It is similar to the FrozenLake-v1 that was studied\n",
    "in Tinkering Notebook 2, but it consist of an 8 × 8 grid and thus have 64 states.\n",
    "\n",
    "Write a code that find an optimal policy π∗(s) and the corresponding value function v∗(s).\n",
    "\n",
    "In the quizz on you will be asked for example ”Which of these are optimal actions in state s = 26?”\n",
    "or ”What is v∗(26)?”. So make sure that you can easily run code that can answer these types of\n",
    "questions for different states.\n",
    "\n",
    "Hint: You can check that your code seems to be working by ensuring that you get to correct answer\n",
    "to the following:\n",
    "\n",
    "- For the optimal policy v∗(26) = 0.80 (rounded to two decimals).\n",
    "- In s = 26 the optimal action is 0 (left).\n"
   ]
  }
 ],
 "metadata": {
  "language_info": {
   "name": "python"
  }
 },
 "nbformat": 4,
 "nbformat_minor": 5
}
