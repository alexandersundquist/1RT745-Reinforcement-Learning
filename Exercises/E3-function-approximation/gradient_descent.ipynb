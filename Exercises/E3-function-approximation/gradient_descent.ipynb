{
 "cells": [
  {
   "cell_type": "code",
   "execution_count": 1,
   "id": "a74fefa9",
   "metadata": {},
   "outputs": [],
   "source": [
    "import numpy as np"
   ]
  },
  {
   "cell_type": "code",
   "execution_count": 2,
   "id": "f4ffdbfd",
   "metadata": {},
   "outputs": [],
   "source": [
    "def J_func(w):\n",
    "    w_1 = w[0]\n",
    "    w_2 = w[1]\n",
    "    return 6 * w_1**2 + 10 * w_1 * w_2 - 8 * w_1 + 6 * w_2**2 - 8 * w_2 + 3"
   ]
  },
  {
   "cell_type": "code",
   "execution_count": null,
   "id": "4a4514d9",
   "metadata": {},
   "outputs": [],
   "source": [
    "def J_gradient(w):\n",
    "    w_1 = w[0]\n",
    "    w_2 = w[1]\n",
    "    return [12 * w_1 + 10 * w_2 - 8, 10 * w_1 + 12 * w_2 - 8]"
   ]
  },
  {
   "cell_type": "code",
   "execution_count": 4,
   "id": "31a0b066",
   "metadata": {},
   "outputs": [
    {
     "name": "stdout",
     "output_type": "stream",
     "text": [
      "0.8200000000000007\n"
     ]
    }
   ],
   "source": [
    "print(J_func([0.96,-0.02]))"
   ]
  },
  {
   "cell_type": "code",
   "execution_count": 15,
   "id": "898b21a7",
   "metadata": {},
   "outputs": [
    {
     "name": "stdout",
     "output_type": "stream",
     "text": [
      "[4, 2]\n"
     ]
    }
   ],
   "source": [
    "print(J_gradient([1,0]))"
   ]
  },
  {
   "cell_type": "code",
   "execution_count": 18,
   "id": "baacf191",
   "metadata": {},
   "outputs": [
    {
     "name": "stdout",
     "output_type": "stream",
     "text": [
      "[1, 2, 1, 2]\n"
     ]
    }
   ],
   "source": [
    "a = [1,2]\n",
    "b = 2*a \n",
    "print(b)"
   ]
  },
  {
   "cell_type": "code",
   "execution_count": 23,
   "id": "127158f2",
   "metadata": {},
   "outputs": [
    {
     "name": "stdout",
     "output_type": "stream",
     "text": [
      "[0.36363636 0.36363636]\n"
     ]
    }
   ],
   "source": [
    "alpha = 0.01\n",
    "n = 1000\n",
    "w = np.array([1.0, 0.0])\n",
    "for i in range(0,n):\n",
    "    w[0] = w[0] - alpha*(12 * w[0] + 10 * w[1] - 8)\n",
    "    w[1] = w[1] - alpha*(12 * w[1] + 10 * w[0] - 8)\n",
    "    \n",
    "print(w)"
   ]
  }
 ],
 "metadata": {
  "kernelspec": {
   "display_name": "RL",
   "language": "python",
   "name": "python3"
  },
  "language_info": {
   "codemirror_mode": {
    "name": "ipython",
    "version": 3
   },
   "file_extension": ".py",
   "mimetype": "text/x-python",
   "name": "python",
   "nbconvert_exporter": "python",
   "pygments_lexer": "ipython3",
   "version": "3.9.21"
  }
 },
 "nbformat": 4,
 "nbformat_minor": 5
}
